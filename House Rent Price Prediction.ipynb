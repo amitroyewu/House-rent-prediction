{
 "cells": [
  {
   "cell_type": "code",
   "execution_count": 1,
   "id": "fb655a47",
   "metadata": {},
   "outputs": [],
   "source": [
    "import matplotlib.pyplot as plt\n",
    "import pandas as pd"
   ]
  },
  {
   "cell_type": "code",
   "execution_count": 2,
   "id": "70ae04ec",
   "metadata": {},
   "outputs": [
    {
     "data": {
      "text/html": [
       "<div>\n",
       "<style scoped>\n",
       "    .dataframe tbody tr th:only-of-type {\n",
       "        vertical-align: middle;\n",
       "    }\n",
       "\n",
       "    .dataframe tbody tr th {\n",
       "        vertical-align: top;\n",
       "    }\n",
       "\n",
       "    .dataframe thead th {\n",
       "        text-align: right;\n",
       "    }\n",
       "</style>\n",
       "<table border=\"1\" class=\"dataframe\">\n",
       "  <thead>\n",
       "    <tr style=\"text-align: right;\">\n",
       "      <th></th>\n",
       "      <th>seller_type</th>\n",
       "      <th>bedroom</th>\n",
       "      <th>layout_type</th>\n",
       "      <th>property_type</th>\n",
       "      <th>locality</th>\n",
       "      <th>price</th>\n",
       "      <th>area</th>\n",
       "      <th>furnish_type</th>\n",
       "      <th>bathroom</th>\n",
       "      <th>city</th>\n",
       "    </tr>\n",
       "  </thead>\n",
       "  <tbody>\n",
       "    <tr>\n",
       "      <th>0</th>\n",
       "      <td>OWNER</td>\n",
       "      <td>2.0</td>\n",
       "      <td>BHK</td>\n",
       "      <td>Apartment</td>\n",
       "      <td>Bodakdev</td>\n",
       "      <td>20000.0</td>\n",
       "      <td>1450.0</td>\n",
       "      <td>Furnished</td>\n",
       "      <td>2.0</td>\n",
       "      <td>Ahmedabad</td>\n",
       "    </tr>\n",
       "    <tr>\n",
       "      <th>1</th>\n",
       "      <td>OWNER</td>\n",
       "      <td>1.0</td>\n",
       "      <td>RK</td>\n",
       "      <td>Studio Apartment</td>\n",
       "      <td>CG Road</td>\n",
       "      <td>7350.0</td>\n",
       "      <td>210.0</td>\n",
       "      <td>Semi-Furnished</td>\n",
       "      <td>1.0</td>\n",
       "      <td>Ahmedabad</td>\n",
       "    </tr>\n",
       "    <tr>\n",
       "      <th>2</th>\n",
       "      <td>OWNER</td>\n",
       "      <td>3.0</td>\n",
       "      <td>BHK</td>\n",
       "      <td>Apartment</td>\n",
       "      <td>Jodhpur</td>\n",
       "      <td>22000.0</td>\n",
       "      <td>1900.0</td>\n",
       "      <td>Unfurnished</td>\n",
       "      <td>3.0</td>\n",
       "      <td>Ahmedabad</td>\n",
       "    </tr>\n",
       "    <tr>\n",
       "      <th>3</th>\n",
       "      <td>OWNER</td>\n",
       "      <td>2.0</td>\n",
       "      <td>BHK</td>\n",
       "      <td>Independent House</td>\n",
       "      <td>Sanand</td>\n",
       "      <td>13000.0</td>\n",
       "      <td>1285.0</td>\n",
       "      <td>Semi-Furnished</td>\n",
       "      <td>2.0</td>\n",
       "      <td>Ahmedabad</td>\n",
       "    </tr>\n",
       "    <tr>\n",
       "      <th>4</th>\n",
       "      <td>OWNER</td>\n",
       "      <td>2.0</td>\n",
       "      <td>BHK</td>\n",
       "      <td>Independent House</td>\n",
       "      <td>Navrangpura</td>\n",
       "      <td>18000.0</td>\n",
       "      <td>1600.0</td>\n",
       "      <td>Furnished</td>\n",
       "      <td>2.0</td>\n",
       "      <td>Ahmedabad</td>\n",
       "    </tr>\n",
       "  </tbody>\n",
       "</table>\n",
       "</div>"
      ],
      "text/plain": [
       "  seller_type  bedroom layout_type      property_type     locality    price  \\\n",
       "0       OWNER      2.0         BHK          Apartment     Bodakdev  20000.0   \n",
       "1       OWNER      1.0          RK   Studio Apartment      CG Road   7350.0   \n",
       "2       OWNER      3.0         BHK          Apartment      Jodhpur  22000.0   \n",
       "3       OWNER      2.0         BHK  Independent House       Sanand  13000.0   \n",
       "4       OWNER      2.0         BHK  Independent House  Navrangpura  18000.0   \n",
       "\n",
       "     area    furnish_type  bathroom       city  \n",
       "0  1450.0       Furnished       2.0  Ahmedabad  \n",
       "1   210.0  Semi-Furnished       1.0  Ahmedabad  \n",
       "2  1900.0     Unfurnished       3.0  Ahmedabad  \n",
       "3  1285.0  Semi-Furnished       2.0  Ahmedabad  \n",
       "4  1600.0       Furnished       2.0  Ahmedabad  "
      ]
     },
     "execution_count": 2,
     "metadata": {},
     "output_type": "execute_result"
    }
   ],
   "source": [
    "dataset = pd.read_csv('_All_Cities_Cleaned.csv')\n",
    "dataset.head(5)"
   ]
  },
  {
   "cell_type": "markdown",
   "id": "32c1099c",
   "metadata": {},
   "source": [
    "# One Hot Encoding"
   ]
  },
  {
   "cell_type": "code",
   "execution_count": 3,
   "id": "237aa891",
   "metadata": {
    "scrolled": true
   },
   "outputs": [
    {
     "data": {
      "text/html": [
       "<div>\n",
       "<style scoped>\n",
       "    .dataframe tbody tr th:only-of-type {\n",
       "        vertical-align: middle;\n",
       "    }\n",
       "\n",
       "    .dataframe tbody tr th {\n",
       "        vertical-align: top;\n",
       "    }\n",
       "\n",
       "    .dataframe thead th {\n",
       "        text-align: right;\n",
       "    }\n",
       "</style>\n",
       "<table border=\"1\" class=\"dataframe\">\n",
       "  <thead>\n",
       "    <tr style=\"text-align: right;\">\n",
       "      <th></th>\n",
       "      <th>BUILDER</th>\n",
       "      <th>OWNER</th>\n",
       "    </tr>\n",
       "  </thead>\n",
       "  <tbody>\n",
       "    <tr>\n",
       "      <th>0</th>\n",
       "      <td>0</td>\n",
       "      <td>1</td>\n",
       "    </tr>\n",
       "    <tr>\n",
       "      <th>1</th>\n",
       "      <td>0</td>\n",
       "      <td>1</td>\n",
       "    </tr>\n",
       "    <tr>\n",
       "      <th>2</th>\n",
       "      <td>0</td>\n",
       "      <td>1</td>\n",
       "    </tr>\n",
       "    <tr>\n",
       "      <th>3</th>\n",
       "      <td>0</td>\n",
       "      <td>1</td>\n",
       "    </tr>\n",
       "    <tr>\n",
       "      <th>4</th>\n",
       "      <td>0</td>\n",
       "      <td>1</td>\n",
       "    </tr>\n",
       "  </tbody>\n",
       "</table>\n",
       "</div>"
      ],
      "text/plain": [
       "   BUILDER  OWNER\n",
       "0        0      1\n",
       "1        0      1\n",
       "2        0      1\n",
       "3        0      1\n",
       "4        0      1"
      ]
     },
     "execution_count": 3,
     "metadata": {},
     "output_type": "execute_result"
    }
   ],
   "source": [
    "seller= pd.get_dummies(dataset['seller_type'],drop_first=True)\n",
    "seller.head(5)"
   ]
  },
  {
   "cell_type": "code",
   "execution_count": 4,
   "id": "2393bb99",
   "metadata": {},
   "outputs": [
    {
     "data": {
      "text/html": [
       "<div>\n",
       "<style scoped>\n",
       "    .dataframe tbody tr th:only-of-type {\n",
       "        vertical-align: middle;\n",
       "    }\n",
       "\n",
       "    .dataframe tbody tr th {\n",
       "        vertical-align: top;\n",
       "    }\n",
       "\n",
       "    .dataframe thead th {\n",
       "        text-align: right;\n",
       "    }\n",
       "</style>\n",
       "<table border=\"1\" class=\"dataframe\">\n",
       "  <thead>\n",
       "    <tr style=\"text-align: right;\">\n",
       "      <th></th>\n",
       "      <th>RK</th>\n",
       "    </tr>\n",
       "  </thead>\n",
       "  <tbody>\n",
       "    <tr>\n",
       "      <th>0</th>\n",
       "      <td>0</td>\n",
       "    </tr>\n",
       "    <tr>\n",
       "      <th>1</th>\n",
       "      <td>1</td>\n",
       "    </tr>\n",
       "    <tr>\n",
       "      <th>2</th>\n",
       "      <td>0</td>\n",
       "    </tr>\n",
       "    <tr>\n",
       "      <th>3</th>\n",
       "      <td>0</td>\n",
       "    </tr>\n",
       "    <tr>\n",
       "      <th>4</th>\n",
       "      <td>0</td>\n",
       "    </tr>\n",
       "  </tbody>\n",
       "</table>\n",
       "</div>"
      ],
      "text/plain": [
       "   RK\n",
       "0   0\n",
       "1   1\n",
       "2   0\n",
       "3   0\n",
       "4   0"
      ]
     },
     "execution_count": 4,
     "metadata": {},
     "output_type": "execute_result"
    }
   ],
   "source": [
    "layout= pd.get_dummies(dataset['layout_type'],drop_first=True)\n",
    "layout.head(5)"
   ]
  },
  {
   "cell_type": "code",
   "execution_count": 5,
   "id": "b93127e6",
   "metadata": {},
   "outputs": [
    {
     "data": {
      "text/html": [
       "<div>\n",
       "<style scoped>\n",
       "    .dataframe tbody tr th:only-of-type {\n",
       "        vertical-align: middle;\n",
       "    }\n",
       "\n",
       "    .dataframe tbody tr th {\n",
       "        vertical-align: top;\n",
       "    }\n",
       "\n",
       "    .dataframe thead th {\n",
       "        text-align: right;\n",
       "    }\n",
       "</style>\n",
       "<table border=\"1\" class=\"dataframe\">\n",
       "  <thead>\n",
       "    <tr style=\"text-align: right;\">\n",
       "      <th></th>\n",
       "      <th>Independent Floor</th>\n",
       "      <th>Independent House</th>\n",
       "      <th>Penthouse</th>\n",
       "      <th>Studio Apartment</th>\n",
       "      <th>Villa</th>\n",
       "    </tr>\n",
       "  </thead>\n",
       "  <tbody>\n",
       "    <tr>\n",
       "      <th>0</th>\n",
       "      <td>0</td>\n",
       "      <td>0</td>\n",
       "      <td>0</td>\n",
       "      <td>0</td>\n",
       "      <td>0</td>\n",
       "    </tr>\n",
       "    <tr>\n",
       "      <th>1</th>\n",
       "      <td>0</td>\n",
       "      <td>0</td>\n",
       "      <td>0</td>\n",
       "      <td>1</td>\n",
       "      <td>0</td>\n",
       "    </tr>\n",
       "    <tr>\n",
       "      <th>2</th>\n",
       "      <td>0</td>\n",
       "      <td>0</td>\n",
       "      <td>0</td>\n",
       "      <td>0</td>\n",
       "      <td>0</td>\n",
       "    </tr>\n",
       "    <tr>\n",
       "      <th>3</th>\n",
       "      <td>0</td>\n",
       "      <td>1</td>\n",
       "      <td>0</td>\n",
       "      <td>0</td>\n",
       "      <td>0</td>\n",
       "    </tr>\n",
       "    <tr>\n",
       "      <th>4</th>\n",
       "      <td>0</td>\n",
       "      <td>1</td>\n",
       "      <td>0</td>\n",
       "      <td>0</td>\n",
       "      <td>0</td>\n",
       "    </tr>\n",
       "  </tbody>\n",
       "</table>\n",
       "</div>"
      ],
      "text/plain": [
       "   Independent Floor  Independent House  Penthouse  Studio Apartment  Villa\n",
       "0                  0                  0          0                 0      0\n",
       "1                  0                  0          0                 1      0\n",
       "2                  0                  0          0                 0      0\n",
       "3                  0                  1          0                 0      0\n",
       "4                  0                  1          0                 0      0"
      ]
     },
     "execution_count": 5,
     "metadata": {},
     "output_type": "execute_result"
    }
   ],
   "source": [
    "propertytype= pd.get_dummies(dataset['property_type'],drop_first=True)\n",
    "propertytype.head(5)"
   ]
  },
  {
   "cell_type": "code",
   "execution_count": 6,
   "id": "107c2f17",
   "metadata": {},
   "outputs": [
    {
     "data": {
      "text/html": [
       "<div>\n",
       "<style scoped>\n",
       "    .dataframe tbody tr th:only-of-type {\n",
       "        vertical-align: middle;\n",
       "    }\n",
       "\n",
       "    .dataframe tbody tr th {\n",
       "        vertical-align: top;\n",
       "    }\n",
       "\n",
       "    .dataframe thead th {\n",
       "        text-align: right;\n",
       "    }\n",
       "</style>\n",
       "<table border=\"1\" class=\"dataframe\">\n",
       "  <thead>\n",
       "    <tr style=\"text-align: right;\">\n",
       "      <th></th>\n",
       "      <th>Semi-Furnished</th>\n",
       "      <th>Unfurnished</th>\n",
       "    </tr>\n",
       "  </thead>\n",
       "  <tbody>\n",
       "    <tr>\n",
       "      <th>0</th>\n",
       "      <td>0</td>\n",
       "      <td>0</td>\n",
       "    </tr>\n",
       "    <tr>\n",
       "      <th>1</th>\n",
       "      <td>1</td>\n",
       "      <td>0</td>\n",
       "    </tr>\n",
       "    <tr>\n",
       "      <th>2</th>\n",
       "      <td>0</td>\n",
       "      <td>1</td>\n",
       "    </tr>\n",
       "    <tr>\n",
       "      <th>3</th>\n",
       "      <td>1</td>\n",
       "      <td>0</td>\n",
       "    </tr>\n",
       "    <tr>\n",
       "      <th>4</th>\n",
       "      <td>0</td>\n",
       "      <td>0</td>\n",
       "    </tr>\n",
       "  </tbody>\n",
       "</table>\n",
       "</div>"
      ],
      "text/plain": [
       "   Semi-Furnished  Unfurnished\n",
       "0               0            0\n",
       "1               1            0\n",
       "2               0            1\n",
       "3               1            0\n",
       "4               0            0"
      ]
     },
     "execution_count": 6,
     "metadata": {},
     "output_type": "execute_result"
    }
   ],
   "source": [
    "furnish= pd.get_dummies(dataset['furnish_type'],drop_first=True)\n",
    "furnish.head(5)"
   ]
  },
  {
   "cell_type": "code",
   "execution_count": 7,
   "id": "69383db7",
   "metadata": {},
   "outputs": [
    {
     "data": {
      "text/html": [
       "<div>\n",
       "<style scoped>\n",
       "    .dataframe tbody tr th:only-of-type {\n",
       "        vertical-align: middle;\n",
       "    }\n",
       "\n",
       "    .dataframe tbody tr th {\n",
       "        vertical-align: top;\n",
       "    }\n",
       "\n",
       "    .dataframe thead th {\n",
       "        text-align: right;\n",
       "    }\n",
       "</style>\n",
       "<table border=\"1\" class=\"dataframe\">\n",
       "  <thead>\n",
       "    <tr style=\"text-align: right;\">\n",
       "      <th></th>\n",
       "      <th>Bangalore</th>\n",
       "      <th>Chennai</th>\n",
       "      <th>Delhi</th>\n",
       "      <th>Hyderabad</th>\n",
       "      <th>Kolkata</th>\n",
       "      <th>Mumbai</th>\n",
       "      <th>Pune</th>\n",
       "    </tr>\n",
       "  </thead>\n",
       "  <tbody>\n",
       "    <tr>\n",
       "      <th>0</th>\n",
       "      <td>0</td>\n",
       "      <td>0</td>\n",
       "      <td>0</td>\n",
       "      <td>0</td>\n",
       "      <td>0</td>\n",
       "      <td>0</td>\n",
       "      <td>0</td>\n",
       "    </tr>\n",
       "    <tr>\n",
       "      <th>1</th>\n",
       "      <td>0</td>\n",
       "      <td>0</td>\n",
       "      <td>0</td>\n",
       "      <td>0</td>\n",
       "      <td>0</td>\n",
       "      <td>0</td>\n",
       "      <td>0</td>\n",
       "    </tr>\n",
       "    <tr>\n",
       "      <th>2</th>\n",
       "      <td>0</td>\n",
       "      <td>0</td>\n",
       "      <td>0</td>\n",
       "      <td>0</td>\n",
       "      <td>0</td>\n",
       "      <td>0</td>\n",
       "      <td>0</td>\n",
       "    </tr>\n",
       "    <tr>\n",
       "      <th>3</th>\n",
       "      <td>0</td>\n",
       "      <td>0</td>\n",
       "      <td>0</td>\n",
       "      <td>0</td>\n",
       "      <td>0</td>\n",
       "      <td>0</td>\n",
       "      <td>0</td>\n",
       "    </tr>\n",
       "    <tr>\n",
       "      <th>4</th>\n",
       "      <td>0</td>\n",
       "      <td>0</td>\n",
       "      <td>0</td>\n",
       "      <td>0</td>\n",
       "      <td>0</td>\n",
       "      <td>0</td>\n",
       "      <td>0</td>\n",
       "    </tr>\n",
       "  </tbody>\n",
       "</table>\n",
       "</div>"
      ],
      "text/plain": [
       "   Bangalore  Chennai  Delhi  Hyderabad  Kolkata  Mumbai  Pune\n",
       "0          0        0      0          0        0       0     0\n",
       "1          0        0      0          0        0       0     0\n",
       "2          0        0      0          0        0       0     0\n",
       "3          0        0      0          0        0       0     0\n",
       "4          0        0      0          0        0       0     0"
      ]
     },
     "execution_count": 7,
     "metadata": {},
     "output_type": "execute_result"
    }
   ],
   "source": [
    "location = pd.get_dummies(dataset['city'],drop_first=True)\n",
    "location.head(5)"
   ]
  },
  {
   "cell_type": "code",
   "execution_count": 8,
   "id": "e27fc620",
   "metadata": {
    "scrolled": false
   },
   "outputs": [
    {
     "data": {
      "text/html": [
       "<div>\n",
       "<style scoped>\n",
       "    .dataframe tbody tr th:only-of-type {\n",
       "        vertical-align: middle;\n",
       "    }\n",
       "\n",
       "    .dataframe tbody tr th {\n",
       "        vertical-align: top;\n",
       "    }\n",
       "\n",
       "    .dataframe thead th {\n",
       "        text-align: right;\n",
       "    }\n",
       "</style>\n",
       "<table border=\"1\" class=\"dataframe\">\n",
       "  <thead>\n",
       "    <tr style=\"text-align: right;\">\n",
       "      <th></th>\n",
       "      <th>seller_type</th>\n",
       "      <th>bedroom</th>\n",
       "      <th>layout_type</th>\n",
       "      <th>property_type</th>\n",
       "      <th>locality</th>\n",
       "      <th>price</th>\n",
       "      <th>area</th>\n",
       "      <th>furnish_type</th>\n",
       "      <th>bathroom</th>\n",
       "      <th>city</th>\n",
       "      <th>...</th>\n",
       "      <th>Villa</th>\n",
       "      <th>Semi-Furnished</th>\n",
       "      <th>Unfurnished</th>\n",
       "      <th>Bangalore</th>\n",
       "      <th>Chennai</th>\n",
       "      <th>Delhi</th>\n",
       "      <th>Hyderabad</th>\n",
       "      <th>Kolkata</th>\n",
       "      <th>Mumbai</th>\n",
       "      <th>Pune</th>\n",
       "    </tr>\n",
       "  </thead>\n",
       "  <tbody>\n",
       "    <tr>\n",
       "      <th>0</th>\n",
       "      <td>OWNER</td>\n",
       "      <td>2.0</td>\n",
       "      <td>BHK</td>\n",
       "      <td>Apartment</td>\n",
       "      <td>Bodakdev</td>\n",
       "      <td>20000.0</td>\n",
       "      <td>1450.0</td>\n",
       "      <td>Furnished</td>\n",
       "      <td>2.0</td>\n",
       "      <td>Ahmedabad</td>\n",
       "      <td>...</td>\n",
       "      <td>0</td>\n",
       "      <td>0</td>\n",
       "      <td>0</td>\n",
       "      <td>0</td>\n",
       "      <td>0</td>\n",
       "      <td>0</td>\n",
       "      <td>0</td>\n",
       "      <td>0</td>\n",
       "      <td>0</td>\n",
       "      <td>0</td>\n",
       "    </tr>\n",
       "    <tr>\n",
       "      <th>1</th>\n",
       "      <td>OWNER</td>\n",
       "      <td>1.0</td>\n",
       "      <td>RK</td>\n",
       "      <td>Studio Apartment</td>\n",
       "      <td>CG Road</td>\n",
       "      <td>7350.0</td>\n",
       "      <td>210.0</td>\n",
       "      <td>Semi-Furnished</td>\n",
       "      <td>1.0</td>\n",
       "      <td>Ahmedabad</td>\n",
       "      <td>...</td>\n",
       "      <td>0</td>\n",
       "      <td>1</td>\n",
       "      <td>0</td>\n",
       "      <td>0</td>\n",
       "      <td>0</td>\n",
       "      <td>0</td>\n",
       "      <td>0</td>\n",
       "      <td>0</td>\n",
       "      <td>0</td>\n",
       "      <td>0</td>\n",
       "    </tr>\n",
       "    <tr>\n",
       "      <th>2</th>\n",
       "      <td>OWNER</td>\n",
       "      <td>3.0</td>\n",
       "      <td>BHK</td>\n",
       "      <td>Apartment</td>\n",
       "      <td>Jodhpur</td>\n",
       "      <td>22000.0</td>\n",
       "      <td>1900.0</td>\n",
       "      <td>Unfurnished</td>\n",
       "      <td>3.0</td>\n",
       "      <td>Ahmedabad</td>\n",
       "      <td>...</td>\n",
       "      <td>0</td>\n",
       "      <td>0</td>\n",
       "      <td>1</td>\n",
       "      <td>0</td>\n",
       "      <td>0</td>\n",
       "      <td>0</td>\n",
       "      <td>0</td>\n",
       "      <td>0</td>\n",
       "      <td>0</td>\n",
       "      <td>0</td>\n",
       "    </tr>\n",
       "    <tr>\n",
       "      <th>3</th>\n",
       "      <td>OWNER</td>\n",
       "      <td>2.0</td>\n",
       "      <td>BHK</td>\n",
       "      <td>Independent House</td>\n",
       "      <td>Sanand</td>\n",
       "      <td>13000.0</td>\n",
       "      <td>1285.0</td>\n",
       "      <td>Semi-Furnished</td>\n",
       "      <td>2.0</td>\n",
       "      <td>Ahmedabad</td>\n",
       "      <td>...</td>\n",
       "      <td>0</td>\n",
       "      <td>1</td>\n",
       "      <td>0</td>\n",
       "      <td>0</td>\n",
       "      <td>0</td>\n",
       "      <td>0</td>\n",
       "      <td>0</td>\n",
       "      <td>0</td>\n",
       "      <td>0</td>\n",
       "      <td>0</td>\n",
       "    </tr>\n",
       "    <tr>\n",
       "      <th>4</th>\n",
       "      <td>OWNER</td>\n",
       "      <td>2.0</td>\n",
       "      <td>BHK</td>\n",
       "      <td>Independent House</td>\n",
       "      <td>Navrangpura</td>\n",
       "      <td>18000.0</td>\n",
       "      <td>1600.0</td>\n",
       "      <td>Furnished</td>\n",
       "      <td>2.0</td>\n",
       "      <td>Ahmedabad</td>\n",
       "      <td>...</td>\n",
       "      <td>0</td>\n",
       "      <td>0</td>\n",
       "      <td>0</td>\n",
       "      <td>0</td>\n",
       "      <td>0</td>\n",
       "      <td>0</td>\n",
       "      <td>0</td>\n",
       "      <td>0</td>\n",
       "      <td>0</td>\n",
       "      <td>0</td>\n",
       "    </tr>\n",
       "    <tr>\n",
       "      <th>...</th>\n",
       "      <td>...</td>\n",
       "      <td>...</td>\n",
       "      <td>...</td>\n",
       "      <td>...</td>\n",
       "      <td>...</td>\n",
       "      <td>...</td>\n",
       "      <td>...</td>\n",
       "      <td>...</td>\n",
       "      <td>...</td>\n",
       "      <td>...</td>\n",
       "      <td>...</td>\n",
       "      <td>...</td>\n",
       "      <td>...</td>\n",
       "      <td>...</td>\n",
       "      <td>...</td>\n",
       "      <td>...</td>\n",
       "      <td>...</td>\n",
       "      <td>...</td>\n",
       "      <td>...</td>\n",
       "      <td>...</td>\n",
       "      <td>...</td>\n",
       "    </tr>\n",
       "    <tr>\n",
       "      <th>193006</th>\n",
       "      <td>OWNER</td>\n",
       "      <td>1.0</td>\n",
       "      <td>BHK</td>\n",
       "      <td>Apartment</td>\n",
       "      <td>Chinchwad</td>\n",
       "      <td>13250.0</td>\n",
       "      <td>650.0</td>\n",
       "      <td>Semi-Furnished</td>\n",
       "      <td>1.0</td>\n",
       "      <td>Pune</td>\n",
       "      <td>...</td>\n",
       "      <td>0</td>\n",
       "      <td>1</td>\n",
       "      <td>0</td>\n",
       "      <td>0</td>\n",
       "      <td>0</td>\n",
       "      <td>0</td>\n",
       "      <td>0</td>\n",
       "      <td>0</td>\n",
       "      <td>0</td>\n",
       "      <td>1</td>\n",
       "    </tr>\n",
       "    <tr>\n",
       "      <th>193007</th>\n",
       "      <td>OWNER</td>\n",
       "      <td>1.0</td>\n",
       "      <td>RK</td>\n",
       "      <td>Studio Apartment</td>\n",
       "      <td>Wadgaon Sheri</td>\n",
       "      <td>7000.0</td>\n",
       "      <td>350.0</td>\n",
       "      <td>Unfurnished</td>\n",
       "      <td>1.0</td>\n",
       "      <td>Pune</td>\n",
       "      <td>...</td>\n",
       "      <td>0</td>\n",
       "      <td>0</td>\n",
       "      <td>1</td>\n",
       "      <td>0</td>\n",
       "      <td>0</td>\n",
       "      <td>0</td>\n",
       "      <td>0</td>\n",
       "      <td>0</td>\n",
       "      <td>0</td>\n",
       "      <td>1</td>\n",
       "    </tr>\n",
       "    <tr>\n",
       "      <th>193008</th>\n",
       "      <td>OWNER</td>\n",
       "      <td>1.0</td>\n",
       "      <td>BHK</td>\n",
       "      <td>Apartment</td>\n",
       "      <td>Kothrud</td>\n",
       "      <td>8500.0</td>\n",
       "      <td>389.0</td>\n",
       "      <td>Semi-Furnished</td>\n",
       "      <td>1.0</td>\n",
       "      <td>Pune</td>\n",
       "      <td>...</td>\n",
       "      <td>0</td>\n",
       "      <td>1</td>\n",
       "      <td>0</td>\n",
       "      <td>0</td>\n",
       "      <td>0</td>\n",
       "      <td>0</td>\n",
       "      <td>0</td>\n",
       "      <td>0</td>\n",
       "      <td>0</td>\n",
       "      <td>1</td>\n",
       "    </tr>\n",
       "    <tr>\n",
       "      <th>193009</th>\n",
       "      <td>AGENT</td>\n",
       "      <td>1.0</td>\n",
       "      <td>BHK</td>\n",
       "      <td>Apartment</td>\n",
       "      <td>Wakad</td>\n",
       "      <td>16500.0</td>\n",
       "      <td>670.0</td>\n",
       "      <td>Semi-Furnished</td>\n",
       "      <td>2.0</td>\n",
       "      <td>Pune</td>\n",
       "      <td>...</td>\n",
       "      <td>0</td>\n",
       "      <td>1</td>\n",
       "      <td>0</td>\n",
       "      <td>0</td>\n",
       "      <td>0</td>\n",
       "      <td>0</td>\n",
       "      <td>0</td>\n",
       "      <td>0</td>\n",
       "      <td>0</td>\n",
       "      <td>1</td>\n",
       "    </tr>\n",
       "    <tr>\n",
       "      <th>193010</th>\n",
       "      <td>AGENT</td>\n",
       "      <td>2.0</td>\n",
       "      <td>BHK</td>\n",
       "      <td>Apartment</td>\n",
       "      <td>Alandi</td>\n",
       "      <td>12000.0</td>\n",
       "      <td>800.0</td>\n",
       "      <td>Unfurnished</td>\n",
       "      <td>2.0</td>\n",
       "      <td>Pune</td>\n",
       "      <td>...</td>\n",
       "      <td>0</td>\n",
       "      <td>0</td>\n",
       "      <td>1</td>\n",
       "      <td>0</td>\n",
       "      <td>0</td>\n",
       "      <td>0</td>\n",
       "      <td>0</td>\n",
       "      <td>0</td>\n",
       "      <td>0</td>\n",
       "      <td>1</td>\n",
       "    </tr>\n",
       "  </tbody>\n",
       "</table>\n",
       "<p>193011 rows × 27 columns</p>\n",
       "</div>"
      ],
      "text/plain": [
       "       seller_type  bedroom layout_type      property_type       locality  \\\n",
       "0            OWNER      2.0         BHK          Apartment       Bodakdev   \n",
       "1            OWNER      1.0          RK   Studio Apartment        CG Road   \n",
       "2            OWNER      3.0         BHK          Apartment        Jodhpur   \n",
       "3            OWNER      2.0         BHK  Independent House         Sanand   \n",
       "4            OWNER      2.0         BHK  Independent House    Navrangpura   \n",
       "...            ...      ...         ...                ...            ...   \n",
       "193006       OWNER      1.0         BHK          Apartment      Chinchwad   \n",
       "193007       OWNER      1.0          RK   Studio Apartment  Wadgaon Sheri   \n",
       "193008       OWNER      1.0         BHK          Apartment        Kothrud   \n",
       "193009       AGENT      1.0         BHK          Apartment          Wakad   \n",
       "193010       AGENT      2.0         BHK          Apartment         Alandi   \n",
       "\n",
       "          price    area    furnish_type  bathroom       city  ...  Villa  \\\n",
       "0       20000.0  1450.0       Furnished       2.0  Ahmedabad  ...      0   \n",
       "1        7350.0   210.0  Semi-Furnished       1.0  Ahmedabad  ...      0   \n",
       "2       22000.0  1900.0     Unfurnished       3.0  Ahmedabad  ...      0   \n",
       "3       13000.0  1285.0  Semi-Furnished       2.0  Ahmedabad  ...      0   \n",
       "4       18000.0  1600.0       Furnished       2.0  Ahmedabad  ...      0   \n",
       "...         ...     ...             ...       ...        ...  ...    ...   \n",
       "193006  13250.0   650.0  Semi-Furnished       1.0       Pune  ...      0   \n",
       "193007   7000.0   350.0     Unfurnished       1.0       Pune  ...      0   \n",
       "193008   8500.0   389.0  Semi-Furnished       1.0       Pune  ...      0   \n",
       "193009  16500.0   670.0  Semi-Furnished       2.0       Pune  ...      0   \n",
       "193010  12000.0   800.0     Unfurnished       2.0       Pune  ...      0   \n",
       "\n",
       "        Semi-Furnished  Unfurnished  Bangalore  Chennai  Delhi  Hyderabad  \\\n",
       "0                    0            0          0        0      0          0   \n",
       "1                    1            0          0        0      0          0   \n",
       "2                    0            1          0        0      0          0   \n",
       "3                    1            0          0        0      0          0   \n",
       "4                    0            0          0        0      0          0   \n",
       "...                ...          ...        ...      ...    ...        ...   \n",
       "193006               1            0          0        0      0          0   \n",
       "193007               0            1          0        0      0          0   \n",
       "193008               1            0          0        0      0          0   \n",
       "193009               1            0          0        0      0          0   \n",
       "193010               0            1          0        0      0          0   \n",
       "\n",
       "        Kolkata  Mumbai  Pune  \n",
       "0             0       0     0  \n",
       "1             0       0     0  \n",
       "2             0       0     0  \n",
       "3             0       0     0  \n",
       "4             0       0     0  \n",
       "...         ...     ...   ...  \n",
       "193006        0       0     1  \n",
       "193007        0       0     1  \n",
       "193008        0       0     1  \n",
       "193009        0       0     1  \n",
       "193010        0       0     1  \n",
       "\n",
       "[193011 rows x 27 columns]"
      ]
     },
     "execution_count": 8,
     "metadata": {},
     "output_type": "execute_result"
    }
   ],
   "source": [
    "merged = pd.concat([dataset,seller, layout, propertytype, furnish, location],axis='columns')\n",
    "merged"
   ]
  },
  {
   "cell_type": "markdown",
   "id": "3c9ad533",
   "metadata": {},
   "source": [
    "## Remove Identifiers"
   ]
  },
  {
   "cell_type": "code",
   "execution_count": 9,
   "id": "70de9881",
   "metadata": {},
   "outputs": [],
   "source": [
    "clean_dataset = merged.drop([\"seller_type\",\"layout_type\",\"property_type\",\"locality\",\"furnish_type\",\"city\"],axis='columns')"
   ]
  },
  {
   "cell_type": "code",
   "execution_count": 10,
   "id": "f62d7e79",
   "metadata": {
    "scrolled": true
   },
   "outputs": [
    {
     "data": {
      "text/html": [
       "<div>\n",
       "<style scoped>\n",
       "    .dataframe tbody tr th:only-of-type {\n",
       "        vertical-align: middle;\n",
       "    }\n",
       "\n",
       "    .dataframe tbody tr th {\n",
       "        vertical-align: top;\n",
       "    }\n",
       "\n",
       "    .dataframe thead th {\n",
       "        text-align: right;\n",
       "    }\n",
       "</style>\n",
       "<table border=\"1\" class=\"dataframe\">\n",
       "  <thead>\n",
       "    <tr style=\"text-align: right;\">\n",
       "      <th></th>\n",
       "      <th>bedroom</th>\n",
       "      <th>price</th>\n",
       "      <th>area</th>\n",
       "      <th>bathroom</th>\n",
       "      <th>BUILDER</th>\n",
       "      <th>OWNER</th>\n",
       "      <th>RK</th>\n",
       "      <th>Independent Floor</th>\n",
       "      <th>Independent House</th>\n",
       "      <th>Penthouse</th>\n",
       "      <th>...</th>\n",
       "      <th>Villa</th>\n",
       "      <th>Semi-Furnished</th>\n",
       "      <th>Unfurnished</th>\n",
       "      <th>Bangalore</th>\n",
       "      <th>Chennai</th>\n",
       "      <th>Delhi</th>\n",
       "      <th>Hyderabad</th>\n",
       "      <th>Kolkata</th>\n",
       "      <th>Mumbai</th>\n",
       "      <th>Pune</th>\n",
       "    </tr>\n",
       "  </thead>\n",
       "  <tbody>\n",
       "    <tr>\n",
       "      <th>0</th>\n",
       "      <td>2.0</td>\n",
       "      <td>20000.0</td>\n",
       "      <td>1450.0</td>\n",
       "      <td>2.0</td>\n",
       "      <td>0</td>\n",
       "      <td>1</td>\n",
       "      <td>0</td>\n",
       "      <td>0</td>\n",
       "      <td>0</td>\n",
       "      <td>0</td>\n",
       "      <td>...</td>\n",
       "      <td>0</td>\n",
       "      <td>0</td>\n",
       "      <td>0</td>\n",
       "      <td>0</td>\n",
       "      <td>0</td>\n",
       "      <td>0</td>\n",
       "      <td>0</td>\n",
       "      <td>0</td>\n",
       "      <td>0</td>\n",
       "      <td>0</td>\n",
       "    </tr>\n",
       "    <tr>\n",
       "      <th>1</th>\n",
       "      <td>1.0</td>\n",
       "      <td>7350.0</td>\n",
       "      <td>210.0</td>\n",
       "      <td>1.0</td>\n",
       "      <td>0</td>\n",
       "      <td>1</td>\n",
       "      <td>1</td>\n",
       "      <td>0</td>\n",
       "      <td>0</td>\n",
       "      <td>0</td>\n",
       "      <td>...</td>\n",
       "      <td>0</td>\n",
       "      <td>1</td>\n",
       "      <td>0</td>\n",
       "      <td>0</td>\n",
       "      <td>0</td>\n",
       "      <td>0</td>\n",
       "      <td>0</td>\n",
       "      <td>0</td>\n",
       "      <td>0</td>\n",
       "      <td>0</td>\n",
       "    </tr>\n",
       "    <tr>\n",
       "      <th>2</th>\n",
       "      <td>3.0</td>\n",
       "      <td>22000.0</td>\n",
       "      <td>1900.0</td>\n",
       "      <td>3.0</td>\n",
       "      <td>0</td>\n",
       "      <td>1</td>\n",
       "      <td>0</td>\n",
       "      <td>0</td>\n",
       "      <td>0</td>\n",
       "      <td>0</td>\n",
       "      <td>...</td>\n",
       "      <td>0</td>\n",
       "      <td>0</td>\n",
       "      <td>1</td>\n",
       "      <td>0</td>\n",
       "      <td>0</td>\n",
       "      <td>0</td>\n",
       "      <td>0</td>\n",
       "      <td>0</td>\n",
       "      <td>0</td>\n",
       "      <td>0</td>\n",
       "    </tr>\n",
       "    <tr>\n",
       "      <th>3</th>\n",
       "      <td>2.0</td>\n",
       "      <td>13000.0</td>\n",
       "      <td>1285.0</td>\n",
       "      <td>2.0</td>\n",
       "      <td>0</td>\n",
       "      <td>1</td>\n",
       "      <td>0</td>\n",
       "      <td>0</td>\n",
       "      <td>1</td>\n",
       "      <td>0</td>\n",
       "      <td>...</td>\n",
       "      <td>0</td>\n",
       "      <td>1</td>\n",
       "      <td>0</td>\n",
       "      <td>0</td>\n",
       "      <td>0</td>\n",
       "      <td>0</td>\n",
       "      <td>0</td>\n",
       "      <td>0</td>\n",
       "      <td>0</td>\n",
       "      <td>0</td>\n",
       "    </tr>\n",
       "    <tr>\n",
       "      <th>4</th>\n",
       "      <td>2.0</td>\n",
       "      <td>18000.0</td>\n",
       "      <td>1600.0</td>\n",
       "      <td>2.0</td>\n",
       "      <td>0</td>\n",
       "      <td>1</td>\n",
       "      <td>0</td>\n",
       "      <td>0</td>\n",
       "      <td>1</td>\n",
       "      <td>0</td>\n",
       "      <td>...</td>\n",
       "      <td>0</td>\n",
       "      <td>0</td>\n",
       "      <td>0</td>\n",
       "      <td>0</td>\n",
       "      <td>0</td>\n",
       "      <td>0</td>\n",
       "      <td>0</td>\n",
       "      <td>0</td>\n",
       "      <td>0</td>\n",
       "      <td>0</td>\n",
       "    </tr>\n",
       "  </tbody>\n",
       "</table>\n",
       "<p>5 rows × 21 columns</p>\n",
       "</div>"
      ],
      "text/plain": [
       "   bedroom    price    area  bathroom  BUILDER  OWNER  RK  Independent Floor  \\\n",
       "0      2.0  20000.0  1450.0       2.0        0      1   0                  0   \n",
       "1      1.0   7350.0   210.0       1.0        0      1   1                  0   \n",
       "2      3.0  22000.0  1900.0       3.0        0      1   0                  0   \n",
       "3      2.0  13000.0  1285.0       2.0        0      1   0                  0   \n",
       "4      2.0  18000.0  1600.0       2.0        0      1   0                  0   \n",
       "\n",
       "   Independent House  Penthouse  ...  Villa  Semi-Furnished  Unfurnished  \\\n",
       "0                  0          0  ...      0               0            0   \n",
       "1                  0          0  ...      0               1            0   \n",
       "2                  0          0  ...      0               0            1   \n",
       "3                  1          0  ...      0               1            0   \n",
       "4                  1          0  ...      0               0            0   \n",
       "\n",
       "   Bangalore  Chennai  Delhi  Hyderabad  Kolkata  Mumbai  Pune  \n",
       "0          0        0      0          0        0       0     0  \n",
       "1          0        0      0          0        0       0     0  \n",
       "2          0        0      0          0        0       0     0  \n",
       "3          0        0      0          0        0       0     0  \n",
       "4          0        0      0          0        0       0     0  \n",
       "\n",
       "[5 rows x 21 columns]"
      ]
     },
     "execution_count": 10,
     "metadata": {},
     "output_type": "execute_result"
    }
   ],
   "source": [
    "clean_dataset.head(5)"
   ]
  },
  {
   "cell_type": "code",
   "execution_count": 11,
   "id": "ef4cffcc",
   "metadata": {},
   "outputs": [
    {
     "data": {
      "text/plain": [
       "(193011, 21)"
      ]
     },
     "execution_count": 11,
     "metadata": {},
     "output_type": "execute_result"
    }
   ],
   "source": [
    "clean_dataset.shape"
   ]
  },
  {
   "cell_type": "code",
   "execution_count": 12,
   "id": "6fea6d2d",
   "metadata": {},
   "outputs": [
    {
     "data": {
      "text/plain": [
       "bedroom              0\n",
       "price                0\n",
       "area                 0\n",
       "bathroom             0\n",
       "BUILDER              0\n",
       "OWNER                0\n",
       "RK                   0\n",
       "Independent Floor    0\n",
       "Independent House    0\n",
       "Penthouse            0\n",
       "Studio Apartment     0\n",
       "Villa                0\n",
       "Semi-Furnished       0\n",
       "Unfurnished          0\n",
       "Bangalore            0\n",
       "Chennai              0\n",
       "Delhi                0\n",
       "Hyderabad            0\n",
       "Kolkata              0\n",
       "Mumbai               0\n",
       "Pune                 0\n",
       "dtype: int64"
      ]
     },
     "execution_count": 12,
     "metadata": {},
     "output_type": "execute_result"
    }
   ],
   "source": [
    "#Check Null Value\n",
    "clean_dataset.isnull().sum()"
   ]
  },
  {
   "cell_type": "markdown",
   "id": "a142d060",
   "metadata": {},
   "source": [
    "## Separate x,y"
   ]
  },
  {
   "cell_type": "code",
   "execution_count": 13,
   "id": "25f6ede4",
   "metadata": {},
   "outputs": [],
   "source": [
    "x = clean_dataset.drop(['price'],axis=1)"
   ]
  },
  {
   "cell_type": "code",
   "execution_count": 14,
   "id": "8471dce9",
   "metadata": {},
   "outputs": [
    {
     "data": {
      "text/html": [
       "<div>\n",
       "<style scoped>\n",
       "    .dataframe tbody tr th:only-of-type {\n",
       "        vertical-align: middle;\n",
       "    }\n",
       "\n",
       "    .dataframe tbody tr th {\n",
       "        vertical-align: top;\n",
       "    }\n",
       "\n",
       "    .dataframe thead th {\n",
       "        text-align: right;\n",
       "    }\n",
       "</style>\n",
       "<table border=\"1\" class=\"dataframe\">\n",
       "  <thead>\n",
       "    <tr style=\"text-align: right;\">\n",
       "      <th></th>\n",
       "      <th>bedroom</th>\n",
       "      <th>area</th>\n",
       "      <th>bathroom</th>\n",
       "      <th>BUILDER</th>\n",
       "      <th>OWNER</th>\n",
       "      <th>RK</th>\n",
       "      <th>Independent Floor</th>\n",
       "      <th>Independent House</th>\n",
       "      <th>Penthouse</th>\n",
       "      <th>Studio Apartment</th>\n",
       "      <th>Villa</th>\n",
       "      <th>Semi-Furnished</th>\n",
       "      <th>Unfurnished</th>\n",
       "      <th>Bangalore</th>\n",
       "      <th>Chennai</th>\n",
       "      <th>Delhi</th>\n",
       "      <th>Hyderabad</th>\n",
       "      <th>Kolkata</th>\n",
       "      <th>Mumbai</th>\n",
       "      <th>Pune</th>\n",
       "    </tr>\n",
       "  </thead>\n",
       "  <tbody>\n",
       "    <tr>\n",
       "      <th>0</th>\n",
       "      <td>2.0</td>\n",
       "      <td>1450.0</td>\n",
       "      <td>2.0</td>\n",
       "      <td>0</td>\n",
       "      <td>1</td>\n",
       "      <td>0</td>\n",
       "      <td>0</td>\n",
       "      <td>0</td>\n",
       "      <td>0</td>\n",
       "      <td>0</td>\n",
       "      <td>0</td>\n",
       "      <td>0</td>\n",
       "      <td>0</td>\n",
       "      <td>0</td>\n",
       "      <td>0</td>\n",
       "      <td>0</td>\n",
       "      <td>0</td>\n",
       "      <td>0</td>\n",
       "      <td>0</td>\n",
       "      <td>0</td>\n",
       "    </tr>\n",
       "    <tr>\n",
       "      <th>1</th>\n",
       "      <td>1.0</td>\n",
       "      <td>210.0</td>\n",
       "      <td>1.0</td>\n",
       "      <td>0</td>\n",
       "      <td>1</td>\n",
       "      <td>1</td>\n",
       "      <td>0</td>\n",
       "      <td>0</td>\n",
       "      <td>0</td>\n",
       "      <td>1</td>\n",
       "      <td>0</td>\n",
       "      <td>1</td>\n",
       "      <td>0</td>\n",
       "      <td>0</td>\n",
       "      <td>0</td>\n",
       "      <td>0</td>\n",
       "      <td>0</td>\n",
       "      <td>0</td>\n",
       "      <td>0</td>\n",
       "      <td>0</td>\n",
       "    </tr>\n",
       "    <tr>\n",
       "      <th>2</th>\n",
       "      <td>3.0</td>\n",
       "      <td>1900.0</td>\n",
       "      <td>3.0</td>\n",
       "      <td>0</td>\n",
       "      <td>1</td>\n",
       "      <td>0</td>\n",
       "      <td>0</td>\n",
       "      <td>0</td>\n",
       "      <td>0</td>\n",
       "      <td>0</td>\n",
       "      <td>0</td>\n",
       "      <td>0</td>\n",
       "      <td>1</td>\n",
       "      <td>0</td>\n",
       "      <td>0</td>\n",
       "      <td>0</td>\n",
       "      <td>0</td>\n",
       "      <td>0</td>\n",
       "      <td>0</td>\n",
       "      <td>0</td>\n",
       "    </tr>\n",
       "    <tr>\n",
       "      <th>3</th>\n",
       "      <td>2.0</td>\n",
       "      <td>1285.0</td>\n",
       "      <td>2.0</td>\n",
       "      <td>0</td>\n",
       "      <td>1</td>\n",
       "      <td>0</td>\n",
       "      <td>0</td>\n",
       "      <td>1</td>\n",
       "      <td>0</td>\n",
       "      <td>0</td>\n",
       "      <td>0</td>\n",
       "      <td>1</td>\n",
       "      <td>0</td>\n",
       "      <td>0</td>\n",
       "      <td>0</td>\n",
       "      <td>0</td>\n",
       "      <td>0</td>\n",
       "      <td>0</td>\n",
       "      <td>0</td>\n",
       "      <td>0</td>\n",
       "    </tr>\n",
       "    <tr>\n",
       "      <th>4</th>\n",
       "      <td>2.0</td>\n",
       "      <td>1600.0</td>\n",
       "      <td>2.0</td>\n",
       "      <td>0</td>\n",
       "      <td>1</td>\n",
       "      <td>0</td>\n",
       "      <td>0</td>\n",
       "      <td>1</td>\n",
       "      <td>0</td>\n",
       "      <td>0</td>\n",
       "      <td>0</td>\n",
       "      <td>0</td>\n",
       "      <td>0</td>\n",
       "      <td>0</td>\n",
       "      <td>0</td>\n",
       "      <td>0</td>\n",
       "      <td>0</td>\n",
       "      <td>0</td>\n",
       "      <td>0</td>\n",
       "      <td>0</td>\n",
       "    </tr>\n",
       "  </tbody>\n",
       "</table>\n",
       "</div>"
      ],
      "text/plain": [
       "   bedroom    area  bathroom  BUILDER  OWNER  RK  Independent Floor  \\\n",
       "0      2.0  1450.0       2.0        0      1   0                  0   \n",
       "1      1.0   210.0       1.0        0      1   1                  0   \n",
       "2      3.0  1900.0       3.0        0      1   0                  0   \n",
       "3      2.0  1285.0       2.0        0      1   0                  0   \n",
       "4      2.0  1600.0       2.0        0      1   0                  0   \n",
       "\n",
       "   Independent House  Penthouse  Studio Apartment  Villa  Semi-Furnished  \\\n",
       "0                  0          0                 0      0               0   \n",
       "1                  0          0                 1      0               1   \n",
       "2                  0          0                 0      0               0   \n",
       "3                  1          0                 0      0               1   \n",
       "4                  1          0                 0      0               0   \n",
       "\n",
       "   Unfurnished  Bangalore  Chennai  Delhi  Hyderabad  Kolkata  Mumbai  Pune  \n",
       "0            0          0        0      0          0        0       0     0  \n",
       "1            0          0        0      0          0        0       0     0  \n",
       "2            1          0        0      0          0        0       0     0  \n",
       "3            0          0        0      0          0        0       0     0  \n",
       "4            0          0        0      0          0        0       0     0  "
      ]
     },
     "execution_count": 14,
     "metadata": {},
     "output_type": "execute_result"
    }
   ],
   "source": [
    "x.head(5)"
   ]
  },
  {
   "cell_type": "code",
   "execution_count": 15,
   "id": "2359a6f1",
   "metadata": {},
   "outputs": [],
   "source": [
    "y = clean_dataset['price']"
   ]
  },
  {
   "cell_type": "code",
   "execution_count": 16,
   "id": "ab9ce14e",
   "metadata": {},
   "outputs": [
    {
     "data": {
      "text/plain": [
       "0    20000.0\n",
       "1     7350.0\n",
       "2    22000.0\n",
       "3    13000.0\n",
       "4    18000.0\n",
       "Name: price, dtype: float64"
      ]
     },
     "execution_count": 16,
     "metadata": {},
     "output_type": "execute_result"
    }
   ],
   "source": [
    "y.head(5)"
   ]
  },
  {
   "cell_type": "code",
   "execution_count": 17,
   "id": "2a5ede74",
   "metadata": {},
   "outputs": [
    {
     "name": "stdout",
     "output_type": "stream",
     "text": [
      "Shape of X_train =  (154408, 20)\n",
      "Shape of y_train =  (154408,)\n",
      "Shape of X_test =  (38603, 20)\n",
      "Shape of y_test =  (38603,)\n"
     ]
    }
   ],
   "source": [
    "# importing train_test_split from sklearn\n",
    "\n",
    "from sklearn.model_selection import train_test_split\n",
    "\n",
    "# splitting the data\n",
    "x_train, x_test, y_train, y_test = train_test_split(x, y, test_size = 0.2, random_state=51)\n",
    "\n",
    "print('Shape of X_train = ', x_train.shape)\n",
    "print('Shape of y_train = ', y_train.shape)\n",
    "print('Shape of X_test = ', x_test.shape)\n",
    "print('Shape of y_test = ', y_test.shape)"
   ]
  },
  {
   "cell_type": "markdown",
   "id": "90c3e688",
   "metadata": {},
   "source": [
    "## Polynomial Features"
   ]
  },
  {
   "cell_type": "code",
   "execution_count": 18,
   "id": "943d239b",
   "metadata": {},
   "outputs": [],
   "source": [
    "from sklearn.preprocessing import PolynomialFeatures\n",
    "poly_reg = PolynomialFeatures(degree=2)\n",
    "x_train_poly = poly_reg.fit_transform(x_train)\n",
    "x_test_poly = poly_reg.fit_transform(x_test)"
   ]
  },
  {
   "cell_type": "code",
   "execution_count": 19,
   "id": "eece1b2b",
   "metadata": {},
   "outputs": [
    {
     "data": {
      "text/plain": [
       "((154408, 231), (38603, 231))"
      ]
     },
     "execution_count": 19,
     "metadata": {},
     "output_type": "execute_result"
    }
   ],
   "source": [
    "x_train_poly.shape, x_test_poly.shape"
   ]
  },
  {
   "cell_type": "markdown",
   "id": "d4d7792f",
   "metadata": {},
   "source": [
    "## Linear Regression"
   ]
  },
  {
   "cell_type": "code",
   "execution_count": 20,
   "id": "f45ff16b",
   "metadata": {},
   "outputs": [],
   "source": [
    "# importing module\n",
    "from sklearn.linear_model import LinearRegression"
   ]
  },
  {
   "cell_type": "markdown",
   "id": "d1ed068e",
   "metadata": {},
   "source": [
    "#### Use for Polynomial"
   ]
  },
  {
   "cell_type": "code",
   "execution_count": 21,
   "id": "eef981ac",
   "metadata": {},
   "outputs": [
    {
     "data": {
      "text/plain": [
       "LinearRegression()"
      ]
     },
     "execution_count": 21,
     "metadata": {},
     "output_type": "execute_result"
    }
   ],
   "source": [
    "lr = LinearRegression()\n",
    "# fitting the training data\n",
    "lr.fit(x_train_poly, y_train)"
   ]
  },
  {
   "cell_type": "markdown",
   "id": "c80d081f",
   "metadata": {},
   "source": [
    "#### Use for multiple linear regression"
   ]
  },
  {
   "cell_type": "code",
   "execution_count": 22,
   "id": "f8315b32",
   "metadata": {},
   "outputs": [
    {
     "data": {
      "text/plain": [
       "LinearRegression()"
      ]
     },
     "execution_count": 22,
     "metadata": {},
     "output_type": "execute_result"
    }
   ],
   "source": [
    "LR = LinearRegression()\n",
    "# fitting the training data\n",
    "LR.fit(x_train,y_train)"
   ]
  },
  {
   "cell_type": "markdown",
   "id": "8f9f59a7",
   "metadata": {},
   "source": [
    "# Prefomance"
   ]
  },
  {
   "cell_type": "markdown",
   "id": "1f00ce12",
   "metadata": {},
   "source": [
    "### Linear Regression "
   ]
  },
  {
   "cell_type": "code",
   "execution_count": 23,
   "id": "d429641e",
   "metadata": {},
   "outputs": [],
   "source": [
    "y_prediction =  LR.predict(x_test)"
   ]
  },
  {
   "cell_type": "code",
   "execution_count": 24,
   "id": "5e31728d",
   "metadata": {},
   "outputs": [
    {
     "data": {
      "text/plain": [
       "array([170264.42538179,  41174.52379789,  34322.33780219, ...,\n",
       "       158080.91306003, 107026.99764762,  28900.89648345])"
      ]
     },
     "execution_count": 24,
     "metadata": {},
     "output_type": "execute_result"
    }
   ],
   "source": [
    "y_prediction"
   ]
  },
  {
   "cell_type": "code",
   "execution_count": 25,
   "id": "9c62c7d5",
   "metadata": {},
   "outputs": [
    {
     "data": {
      "text/plain": [
       "0.6152082456710775"
      ]
     },
     "execution_count": 25,
     "metadata": {},
     "output_type": "execute_result"
    }
   ],
   "source": [
    "from sklearn.metrics import explained_variance_score\n",
    "explained_variance_score(y_test, y_prediction)"
   ]
  },
  {
   "cell_type": "code",
   "execution_count": 26,
   "id": "94256ab7",
   "metadata": {},
   "outputs": [
    {
     "data": {
      "text/plain": [
       "0.6151966111534108"
      ]
     },
     "execution_count": 26,
     "metadata": {},
     "output_type": "execute_result"
    }
   ],
   "source": [
    "from sklearn.metrics import r2_score\n",
    "r2_score(y_test,y_prediction )"
   ]
  },
  {
   "cell_type": "code",
   "execution_count": 27,
   "id": "c798231c",
   "metadata": {},
   "outputs": [],
   "source": [
    "from sklearn.metrics import mean_squared_error\n",
    "mse_l=mean_squared_error(y_test,y_prediction)"
   ]
  },
  {
   "cell_type": "code",
   "execution_count": 28,
   "id": "d6ba737a",
   "metadata": {},
   "outputs": [
    {
     "data": {
      "text/plain": [
       "3251896131.8487267"
      ]
     },
     "execution_count": 28,
     "metadata": {},
     "output_type": "execute_result"
    }
   ],
   "source": [
    "mse_l"
   ]
  },
  {
   "cell_type": "code",
   "execution_count": 29,
   "id": "22bcfc1a",
   "metadata": {},
   "outputs": [],
   "source": [
    "from math import sqrt\n",
    "rmse_l = sqrt(mse_l)"
   ]
  },
  {
   "cell_type": "code",
   "execution_count": 30,
   "id": "75c1c3a4",
   "metadata": {},
   "outputs": [
    {
     "data": {
      "text/plain": [
       "57025.39900648418"
      ]
     },
     "execution_count": 30,
     "metadata": {},
     "output_type": "execute_result"
    }
   ],
   "source": [
    "rmse_l"
   ]
  },
  {
   "cell_type": "code",
   "execution_count": 31,
   "id": "49a48d75",
   "metadata": {},
   "outputs": [
    {
     "data": {
      "image/png": "[encoded data removed]",
      "text/plain": [
       "<Figure size 720x720 with 1 Axes>"
      ]
     },
     "metadata": {
      "needs_background": "light"
     },
     "output_type": "display_data"
    }
   ],
   "source": [
    "plt.figure(figsize=(10,10))\n",
    "plt.scatter(y_test, y_prediction, c='crimson')\n",
    "plt.yscale('log')\n",
    "plt.xscale('log')\n",
    "p1 = max(max(y_prediction), max(y_test))\n",
    "p2 = min(min(y_prediction), min(y_test))\n",
    "plt.plot([p1, p2], [p1, p2], 'b-')\n",
    "plt.title('Actuals Vs Predicted Values')\n",
    "plt.xlabel('True Values', fontsize=15)\n",
    "plt.ylabel('Predicted Values', fontsize=15)\n",
    "plt.axis('equal')\n",
    "plt.show()"
   ]
  },
  {
   "cell_type": "markdown",
   "id": "863179ea",
   "metadata": {},
   "source": [
    "### Polynomial Regression"
   ]
  },
  {
   "cell_type": "code",
   "execution_count": 32,
   "id": "7cebc79a",
   "metadata": {},
   "outputs": [],
   "source": [
    "y_predict = lr.predict(x_test_poly)"
   ]
  },
  {
   "cell_type": "code",
   "execution_count": 33,
   "id": "302a0d55",
   "metadata": {},
   "outputs": [
    {
     "data": {
      "text/plain": [
       "array([186612.11338525,  23308.66522963,  54515.27325673, ...,\n",
       "        51934.57726673, 126110.9706122 ,  12822.85756681])"
      ]
     },
     "execution_count": 33,
     "metadata": {},
     "output_type": "execute_result"
    }
   ],
   "source": [
    "y_predict"
   ]
  },
  {
   "cell_type": "code",
   "execution_count": 34,
   "id": "05035f03",
   "metadata": {
    "scrolled": true
   },
   "outputs": [
    {
     "data": {
      "text/plain": [
       "0.7507657894104472"
      ]
     },
     "execution_count": 34,
     "metadata": {},
     "output_type": "execute_result"
    }
   ],
   "source": [
    "from sklearn.metrics import explained_variance_score\n",
    "explained_variance_score(y_test, y_predict)"
   ]
  },
  {
   "cell_type": "code",
   "execution_count": 35,
   "id": "5290896e",
   "metadata": {},
   "outputs": [
    {
     "data": {
      "text/plain": [
       "0.7507607906191328"
      ]
     },
     "execution_count": 35,
     "metadata": {},
     "output_type": "execute_result"
    }
   ],
   "source": [
    "from sklearn.metrics import r2_score\n",
    "r2_score(y_test,y_predict )"
   ]
  },
  {
   "cell_type": "code",
   "execution_count": 36,
   "id": "8514824f",
   "metadata": {},
   "outputs": [],
   "source": [
    "from sklearn.metrics import mean_squared_error\n",
    "mse=mean_squared_error(y_test,y_predict)"
   ]
  },
  {
   "cell_type": "code",
   "execution_count": 37,
   "id": "3be934c0",
   "metadata": {},
   "outputs": [
    {
     "data": {
      "text/plain": [
       "2106270486.1307805"
      ]
     },
     "execution_count": 37,
     "metadata": {},
     "output_type": "execute_result"
    }
   ],
   "source": [
    "mse"
   ]
  },
  {
   "cell_type": "code",
   "execution_count": 38,
   "id": "5bf0119d",
   "metadata": {},
   "outputs": [],
   "source": [
    "from math import sqrt\n",
    "\n",
    "rmse = sqrt(mse)"
   ]
  },
  {
   "cell_type": "code",
   "execution_count": 39,
   "id": "2f6208c5",
   "metadata": {},
   "outputs": [
    {
     "data": {
      "text/plain": [
       "45894.12256630233"
      ]
     },
     "execution_count": 39,
     "metadata": {},
     "output_type": "execute_result"
    }
   ],
   "source": [
    "rmse"
   ]
  },
  {
   "cell_type": "code",
   "execution_count": 40,
   "id": "99065a72",
   "metadata": {},
   "outputs": [
    {
     "data": {
      "image/png": "[encoded data removed]",
      "text/plain": [
       "<Figure size 720x720 with 1 Axes>"
      ]
     },
     "metadata": {
      "needs_background": "light"
     },
     "output_type": "display_data"
    }
   ],
   "source": [
    "plt.figure(figsize=(10,10))\n",
    "plt.scatter(y_test, y_predict, c='crimson')\n",
    "plt.yscale('log')\n",
    "plt.xscale('log')\n",
    "p1 = max(max(y_predict), max(y_test))\n",
    "p2 = min(min(y_predict), min(y_test))\n",
    "plt.plot([p1, p2], [p1, p2], 'b-')\n",
    "plt.title('Actuals Vs Predicted Values')\n",
    "plt.xlabel('True Values', fontsize=15)\n",
    "plt.ylabel('Predicted Values', fontsize=15)\n",
    "plt.axis('equal')\n",
    "plt.show()"
   ]
  }
 ],
 "metadata": {
  "kernelspec": {
   "display_name": "Python 3",
   "language": "python",
   "name": "python3"
  },
  "language_info": {
   "codemirror_mode": {
    "name": "ipython",
    "version": 3
   },
   "file_extension": ".py",
   "mimetype": "text/x-python",
   "name": "python",
   "nbconvert_exporter": "python",
   "pygments_lexer": "ipython3",
   "version": "3.8.8"
  }
 },
 "nbformat": 4,
 "nbformat_minor": 5
}
